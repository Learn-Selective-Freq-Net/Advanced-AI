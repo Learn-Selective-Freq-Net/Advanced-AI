{
 "cells": [
  {
   "cell_type": "markdown",
   "metadata": {},
   "source": [
    "Nguồn video:\n",
    "- Video 1: https://www.youtube.com/watch?v=QKk6IWuduSU\n",
    "- Video 2: https://www.instagram.com/reel/DFdCxeST7t6/?utm_source=ig_web_copy_link&igsh=MzRlODBiNWFlZA==\n",
    "- Video 3: https://www.youtube.com/watch?v=B7Uq_C965Wk\n",
    "- Video 4: https://www.youtube.com/shorts/51OCVGigWLQ\n",
    "\n",
    "Cách download:\n",
    "- Sử dụng các công cụ \"YouTube video downloader\" trên internet\n",
    "- Sử dụng các công cụ \"Instagram video downloader\" trên internet"
   ]
  },
  {
   "cell_type": "code",
   "execution_count": 1,
   "metadata": {},
   "outputs": [],
   "source": [
    "video_dir = \"/Users/4rr311/Downloads/rain_videos\"\n",
    "video_list = [\n",
    "    \"video1.mp4\",\n",
    "    \"video2.mp4\",\n",
    "    \"video3.mp4\",\n",
    "    \"video4.mp4\",\n",
    "]\n",
    "video_output_dir = \"/Users/4rr311/Documents/VectorA/KHTN/Graduate/Nam 1/advanced_ai/Advanced-AI/vuong/deraining_evaluation/expanding/extracted_from_videos\""
   ]
  },
  {
   "cell_type": "code",
   "execution_count": 2,
   "metadata": {},
   "outputs": [],
   "source": [
    "!pip install -q opencv-python # -q: quiet installation"
   ]
  },
  {
   "cell_type": "code",
   "execution_count": 3,
   "metadata": {},
   "outputs": [
    {
     "name": "stdout",
     "output_type": "stream",
     "text": [
      "Name: opencv-python\n",
      "Version: 4.11.0.86\n",
      "Summary: Wrapper package for OpenCV python bindings.\n",
      "Home-page: https://github.com/opencv/opencv-python\n",
      "Author: \n",
      "Author-email: \n",
      "License: Apache 2.0\n",
      "Location: /Library/Frameworks/Python.framework/Versions/3.10/lib/python3.10/site-packages\n",
      "Requires: numpy\n",
      "Required-by: \n"
     ]
    }
   ],
   "source": [
    "!pip show opencv-python"
   ]
  },
  {
   "cell_type": "code",
   "execution_count": 4,
   "metadata": {},
   "outputs": [],
   "source": [
    "import cv2\n",
    "\n",
    "def extract_frames_from_video(video_file_path, n_output_images, output_dir, start_second=0, end_second=None):\n",
    "    \"\"\"\n",
    "    DISCLAIMER: NHÓM CÓ SỬ DỤNG ChatGPT ĐỂ VIẾT HÀM NÀY\n",
    "    DISCLAIMER: NHÓM CÓ SỬ DỤNG ChatGPT ĐỂ VIẾT HÀM NÀY\n",
    "    DISCLAIMER: NHÓM CÓ SỬ DỤNG ChatGPT ĐỂ VIẾT HÀM NÀY\n",
    "\n",
    "    Extracts frames from a video file at specified intervals and saves them as images.\n",
    "\n",
    "    Parameters:\n",
    "    video_file_path (str): Path to the input video file.\n",
    "    n_output_images (int): Number of output images to save.\n",
    "    start_second (int): Start time in seconds from which to begin extracting frames.\n",
    "    end_second (int): End time in seconds until which to extract frames.\n",
    "    output_dir (str): Directory where the output images will be saved.\n",
    "    \"\"\"\n",
    "    \n",
    "    # Open the video file\n",
    "    video = cv2.VideoCapture(video_file_path)\n",
    "\n",
    "    # Get the frames per second (fps) of the video\n",
    "    fps = video.get(cv2.CAP_PROP_FPS)\n",
    "\n",
    "    # Calculate the total number of frames in the video\n",
    "    total_frames = int(video.get(cv2.CAP_PROP_FRAME_COUNT))\n",
    "\n",
    "    # Calculate the start and end frames based on the specified time range\n",
    "    start_frame = int(start_second * fps)\n",
    "    end_frame = int(end_second * fps) if end_second is not None else total_frames\n",
    "\n",
    "    # Ensure that the start and end frames are within the valid range\n",
    "    start_frame = max(0, min(start_frame, total_frames - 1))\n",
    "    end_frame = max(0, min(end_frame, total_frames - 1))\n",
    "\n",
    "    # Calculate the interval between frames to extract\n",
    "    interval = (end_frame - start_frame) // n_output_images\n",
    "\n",
    "    # Extract and save frames at specified intervals\n",
    "    for i in range(n_output_images):\n",
    "        frame_number = start_frame + i * interval\n",
    "        video.set(cv2.CAP_PROP_POS_FRAMES, frame_number)\n",
    "        success, frame = video.read()\n",
    "        if success:\n",
    "            output_file_path = f\"{output_dir}/frame_{i + 1}.png\"\n",
    "            cv2.imwrite(output_file_path, frame)\n",
    "\n",
    "    # Release the video capture object\n",
    "    video.release()"
   ]
  },
  {
   "cell_type": "code",
   "execution_count": 5,
   "metadata": {},
   "outputs": [
    {
     "name": "stdout",
     "output_type": "stream",
     "text": [
      "/Users/4rr311/Documents/VectorA/KHTN/Graduate/Nam 1/advanced_ai/Advanced-AI/vuong/deraining_evaluation/expanding/extracted_from_videos/video1/input/\n",
      "/Users/4rr311/Documents/VectorA/KHTN/Graduate/Nam 1/advanced_ai/Advanced-AI/vuong/deraining_evaluation/expanding/extracted_from_videos/video2/input/\n",
      "/Users/4rr311/Documents/VectorA/KHTN/Graduate/Nam 1/advanced_ai/Advanced-AI/vuong/deraining_evaluation/expanding/extracted_from_videos/video3/input/\n",
      "/Users/4rr311/Documents/VectorA/KHTN/Graduate/Nam 1/advanced_ai/Advanced-AI/vuong/deraining_evaluation/expanding/extracted_from_videos/video4/input/\n"
     ]
    }
   ],
   "source": [
    "import os\n",
    "\n",
    "for video_file in video_list:\n",
    "    output_dir = f\"{video_output_dir}/{video_file.replace('.mp4', '')}/input/\"\n",
    "    os.makedirs(output_dir, exist_ok=True)\n",
    "    \n",
    "    extract_frames_from_video(\n",
    "        video_file_path = f\"{video_dir}/{video_file}\", \n",
    "        n_output_images = 20,\n",
    "        output_dir = output_dir,\n",
    "        start_second = 5, \n",
    "        end_second = None\n",
    "    )\n",
    "\n",
    "    print(output_dir)"
   ]
  }
 ],
 "metadata": {
  "kernelspec": {
   "display_name": "Python 3",
   "language": "python",
   "name": "python3"
  },
  "language_info": {
   "codemirror_mode": {
    "name": "ipython",
    "version": 3
   },
   "file_extension": ".py",
   "mimetype": "text/x-python",
   "name": "python",
   "nbconvert_exporter": "python",
   "pygments_lexer": "ipython3",
   "version": "3.10.10"
  }
 },
 "nbformat": 4,
 "nbformat_minor": 2
}
