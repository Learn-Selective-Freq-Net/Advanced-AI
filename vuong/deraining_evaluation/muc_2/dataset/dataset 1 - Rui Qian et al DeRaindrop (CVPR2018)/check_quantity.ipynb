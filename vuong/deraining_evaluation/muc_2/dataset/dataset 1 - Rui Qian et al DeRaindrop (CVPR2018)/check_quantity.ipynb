{
 "cells": [
  {
   "cell_type": "code",
   "execution_count": 1,
   "metadata": {},
   "outputs": [],
   "source": [
    "import os\n",
    "\n",
    "def check(gt_path, inference_data_path):\n",
    "    # Check if all file in gt_path has corresponding file in inference_data_path\n",
    "    gt_files = os.listdir(gt_path)\n",
    "    inference_files = os.listdir(inference_data_path)\n",
    "\n",
    "    for gt_file in gt_files:\n",
    "        if gt_file not in inference_files:\n",
    "            print(\"Missing file: \", gt_file)\n",
    "            break\n",
    "        else:\n",
    "            pass\n",
    "    \n",
    "    print(\"CHECK: Done!\")"
   ]
  },
  {
   "cell_type": "code",
   "execution_count": 2,
   "metadata": {},
   "outputs": [],
   "source": [
    "gt_path_a = \"./ground_truth/raindrop_data/test_a/\"\n",
    "inference_data_path_a = \"./inference_result/SFNet/deraining/test_a/\"\n",
    "\n",
    "gt_path_b = \"./ground_truth/raindrop_data/test_b/\"\n",
    "inference_data_path_b = \"./inference_result/SFNet/deraining/test_b/\""
   ]
  },
  {
   "cell_type": "code",
   "execution_count": 3,
   "metadata": {},
   "outputs": [
    {
     "name": "stdout",
     "output_type": "stream",
     "text": [
      "CHECK: Done!\n"
     ]
    }
   ],
   "source": [
    "check(gt_path_a, inference_data_path_a)"
   ]
  },
  {
   "cell_type": "code",
   "execution_count": 4,
   "metadata": {},
   "outputs": [
    {
     "name": "stdout",
     "output_type": "stream",
     "text": [
      "CHECK: Done!\n"
     ]
    }
   ],
   "source": [
    "check(gt_path_b, inference_data_path_b)"
   ]
  }
 ],
 "metadata": {
  "kernelspec": {
   "display_name": "Python 3",
   "language": "python",
   "name": "python3"
  },
  "language_info": {
   "codemirror_mode": {
    "name": "ipython",
    "version": 3
   },
   "file_extension": ".py",
   "mimetype": "text/x-python",
   "name": "python",
   "nbconvert_exporter": "python",
   "pygments_lexer": "ipython3",
   "version": "3.10.10"
  }
 },
 "nbformat": 4,
 "nbformat_minor": 2
}
