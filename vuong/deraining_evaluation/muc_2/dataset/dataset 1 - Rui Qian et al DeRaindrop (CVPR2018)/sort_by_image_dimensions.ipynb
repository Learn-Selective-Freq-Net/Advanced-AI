{
 "cells": [
  {
   "cell_type": "code",
   "execution_count": 1,
   "metadata": {},
   "outputs": [],
   "source": [
    "gt_path_a = \"./ground_truth/raindrop_data/test_a/\"\n",
    "inference_data_path_a = \"./inference_result/SFNet/deraining/test_a/\"\n",
    "\n",
    "gt_path_b = \"./ground_truth/raindrop_data/test_b/\"\n",
    "inference_data_path_b = \"./inference_result/SFNet/deraining/test_b/\""
   ]
  },
  {
   "cell_type": "code",
   "execution_count": 5,
   "metadata": {},
   "outputs": [],
   "source": [
    "dimension_sorted_dir = \"./dimension_sorted/\""
   ]
  },
  {
   "cell_type": "code",
   "execution_count": 2,
   "metadata": {},
   "outputs": [
    {
     "name": "stdout",
     "output_type": "stream",
     "text": [
      "Requirement already satisfied: pillow in /Library/Frameworks/Python.framework/Versions/3.10/lib/python3.10/site-packages (9.4.0)\n"
     ]
    }
   ],
   "source": [
    "!pip install pillow"
   ]
  },
  {
   "cell_type": "code",
   "execution_count": 3,
   "metadata": {},
   "outputs": [],
   "source": [
    "all_dirs = [\n",
    "    gt_path_a,\n",
    "    inference_data_path_a,\n",
    "    gt_path_b,\n",
    "    inference_data_path_b\n",
    "]"
   ]
  },
  {
   "cell_type": "code",
   "execution_count": 4,
   "metadata": {},
   "outputs": [
    {
     "data": {
      "text/plain": [
       "{'./ground_truth/raindrop_data/test_a/': {(720, 480), (721, 480), (721, 540)},\n",
       " './inference_result/SFNet/deraining/test_a/': {(720, 480),\n",
       "  (728, 480),\n",
       "  (728, 544)},\n",
       " './ground_truth/raindrop_data/test_b/': {(720, 480),\n",
       "  (720, 481),\n",
       "  (720, 540),\n",
       "  (720, 541),\n",
       "  (720, 542),\n",
       "  (721, 480),\n",
       "  (721, 481),\n",
       "  (721, 482),\n",
       "  (721, 540),\n",
       "  (721, 541),\n",
       "  (721, 542),\n",
       "  (722, 540),\n",
       "  (722, 541),\n",
       "  (723, 540),\n",
       "  (730, 549),\n",
       "  (732, 543),\n",
       "  (732, 551),\n",
       "  (733, 546),\n",
       "  (736, 546)},\n",
       " './inference_result/SFNet/deraining/test_b/': {(720, 480),\n",
       "  (720, 488),\n",
       "  (720, 544),\n",
       "  (728, 480),\n",
       "  (728, 488),\n",
       "  (728, 544),\n",
       "  (736, 544),\n",
       "  (736, 552)}}"
      ]
     },
     "execution_count": 4,
     "metadata": {},
     "output_type": "execute_result"
    }
   ],
   "source": [
    "import os\n",
    "from PIL import Image\n",
    "\n",
    "resolutions: dict[str, set] = {}\n",
    "\n",
    "for dir in all_dirs:\n",
    "    for file in os.listdir(dir):\n",
    "        if file.endswith(\".jpg\") or file.endswith(\".png\"):\n",
    "            img = Image.open(dir + file)\n",
    "            \n",
    "            if dir not in resolutions:\n",
    "                resolutions[dir] = set()\n",
    "            \n",
    "            resolutions[dir].add(img.size)\n",
    "\n",
    "resolutions"
   ]
  },
  {
   "cell_type": "code",
   "execution_count": null,
   "metadata": {},
   "outputs": [],
   "source": [
    "for dir in all_dirs:\n",
    "    for file in os.listdir(dir):\n",
    "        if file.endswith(\".jpg\") or file.endswith(\".png\"):\n",
    "            if \"inference\" in dir:\n",
    "                "
   ]
  }
 ],
 "metadata": {
  "kernelspec": {
   "display_name": "Python 3",
   "language": "python",
   "name": "python3"
  },
  "language_info": {
   "codemirror_mode": {
    "name": "ipython",
    "version": 3
   },
   "file_extension": ".py",
   "mimetype": "text/x-python",
   "name": "python",
   "nbconvert_exporter": "python",
   "pygments_lexer": "ipython3",
   "version": "3.10.10"
  }
 },
 "nbformat": 4,
 "nbformat_minor": 2
}
