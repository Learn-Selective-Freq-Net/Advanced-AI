{
  "nbformat": 4,
  "nbformat_minor": 0,
  "metadata": {
    "colab": {
      "provenance": [],
      "gpuType": "T4"
    },
    "kernelspec": {
      "name": "python3",
      "display_name": "Python 3"
    },
    "language_info": {
      "name": "python"
    },
    "accelerator": "GPU"
  },
  "cells": [
    {
      "cell_type": "code",
      "execution_count": 1,
      "metadata": {
        "id": "G-zeXEk6Y-h-"
      },
      "outputs": [],
      "source": [
        "from IPython.display import clear_output\n",
        "!sudo apt-get install libtinfo5\n",
        "!sudo apt update\n",
        "!sudo apt install python3.8 python3.8-distutils\n",
        "!sudo apt install python3.8-dev\n",
        "!wget https://bootstrap.pypa.io/get-pip.py\n",
        "!sudo python3.8 get-pip.py\n",
        "!python3.8 -m pip install torch==1.8.1 torchvision==0.9.1 -f https://download.pytorch.org/whl/torch_stable.html\n",
        "!pip3.8 install tensorboard einops scikit-image pytorch_msssim opencv-python\n",
        "clear_output()"
      ]
    },
    {
      "cell_type": "code",
      "source": [
        "!git clone https://github.com/c-yn/SFNet.git"
      ],
      "metadata": {
        "colab": {
          "base_uri": "https://localhost:8080/"
        },
        "id": "0NGMWhyuZfxn",
        "outputId": "c9f5a599-a58f-4b64-a519-4aae04a2cc37"
      },
      "execution_count": 2,
      "outputs": [
        {
          "output_type": "stream",
          "name": "stdout",
          "text": [
            "Cloning into 'SFNet'...\n",
            "remote: Enumerating objects: 131, done.\u001b[K\n",
            "remote: Counting objects: 100% (131/131), done.\u001b[K\n",
            "remote: Compressing objects: 100% (105/105), done.\u001b[K\n",
            "remote: Total 131 (delta 67), reused 62 (delta 24), pack-reused 0 (from 0)\u001b[K\n",
            "Receiving objects: 100% (131/131), 159.09 KiB | 848.00 KiB/s, done.\n",
            "Resolving deltas: 100% (67/67), done.\n"
          ]
        }
      ]
    },
    {
      "cell_type": "code",
      "source": [
        "%cd /content/SFNet"
      ],
      "metadata": {
        "colab": {
          "base_uri": "https://localhost:8080/"
        },
        "id": "YABbROOFZglQ",
        "outputId": "dbe592ec-1e07-4010-884a-da2ff15b51b8"
      },
      "execution_count": 3,
      "outputs": [
        {
          "output_type": "stream",
          "name": "stdout",
          "text": [
            "/content/SFNet\n"
          ]
        }
      ]
    },
    {
      "cell_type": "code",
      "source": [
        "!ls"
      ],
      "metadata": {
        "colab": {
          "base_uri": "https://localhost:8080/"
        },
        "id": "Q57v2wZIaTML",
        "outputId": "a5dc13a5-89b4-4af2-f47e-7c9077ad28a2"
      },
      "execution_count": 4,
      "outputs": [
        {
          "output_type": "stream",
          "name": "stdout",
          "text": [
            "figs\t\tImage_deraining  LICENSE\t    pytorch-gradual-warmup-lr\n",
            "Image_dehazing\tImage_desnowing  Motion_deblurring  README.md\n"
          ]
        }
      ]
    },
    {
      "cell_type": "code",
      "source": [
        "%cd pytorch-gradual-warmup-lr/\n",
        "# !python3.8 setup.py install\n",
        "!python setup.py install\n",
        "# !python3.10 setup.py install\n",
        "%cd .."
      ],
      "metadata": {
        "colab": {
          "base_uri": "https://localhost:8080/"
        },
        "id": "LilIBUfsaT-H",
        "outputId": "c0d27754-5138-48d1-dc4f-f61ca5317806"
      },
      "execution_count": 5,
      "outputs": [
        {
          "output_type": "stream",
          "name": "stdout",
          "text": [
            "/content/SFNet/pytorch-gradual-warmup-lr\n",
            "running install\n",
            "/usr/local/lib/python3.11/dist-packages/setuptools/_distutils/cmd.py:66: SetuptoolsDeprecationWarning: setup.py install is deprecated.\n",
            "!!\n",
            "\n",
            "        ********************************************************************************\n",
            "        Please avoid running ``setup.py`` directly.\n",
            "        Instead, use pypa/build, pypa/installer or other\n",
            "        standards-based tools.\n",
            "\n",
            "        See https://blog.ganssle.io/articles/2021/10/setup-py-deprecated.html for details.\n",
            "        ********************************************************************************\n",
            "\n",
            "!!\n",
            "  self.initialize_options()\n",
            "/usr/local/lib/python3.11/dist-packages/setuptools/_distutils/cmd.py:66: EasyInstallDeprecationWarning: easy_install command is deprecated.\n",
            "!!\n",
            "\n",
            "        ********************************************************************************\n",
            "        Please avoid running ``setup.py`` and ``easy_install``.\n",
            "        Instead, use pypa/build, pypa/installer or other\n",
            "        standards-based tools.\n",
            "\n",
            "        See https://github.com/pypa/setuptools/issues/917 for details.\n",
            "        ********************************************************************************\n",
            "\n",
            "!!\n",
            "  self.initialize_options()\n",
            "running bdist_egg\n",
            "running egg_info\n",
            "creating warmup_scheduler.egg-info\n",
            "writing warmup_scheduler.egg-info/PKG-INFO\n",
            "writing dependency_links to warmup_scheduler.egg-info/dependency_links.txt\n",
            "writing top-level names to warmup_scheduler.egg-info/top_level.txt\n",
            "writing manifest file 'warmup_scheduler.egg-info/SOURCES.txt'\n",
            "reading manifest file 'warmup_scheduler.egg-info/SOURCES.txt'\n",
            "writing manifest file 'warmup_scheduler.egg-info/SOURCES.txt'\n",
            "installing library code to build/bdist.linux-x86_64/egg\n",
            "running install_lib\n",
            "running build_py\n",
            "creating build/lib/warmup_scheduler\n",
            "copying warmup_scheduler/scheduler.py -> build/lib/warmup_scheduler\n",
            "copying warmup_scheduler/run.py -> build/lib/warmup_scheduler\n",
            "copying warmup_scheduler/__init__.py -> build/lib/warmup_scheduler\n",
            "creating build/bdist.linux-x86_64/egg\n",
            "creating build/bdist.linux-x86_64/egg/warmup_scheduler\n",
            "copying build/lib/warmup_scheduler/scheduler.py -> build/bdist.linux-x86_64/egg/warmup_scheduler\n",
            "copying build/lib/warmup_scheduler/run.py -> build/bdist.linux-x86_64/egg/warmup_scheduler\n",
            "copying build/lib/warmup_scheduler/__init__.py -> build/bdist.linux-x86_64/egg/warmup_scheduler\n",
            "byte-compiling build/bdist.linux-x86_64/egg/warmup_scheduler/scheduler.py to scheduler.cpython-311.pyc\n",
            "byte-compiling build/bdist.linux-x86_64/egg/warmup_scheduler/run.py to run.cpython-311.pyc\n",
            "byte-compiling build/bdist.linux-x86_64/egg/warmup_scheduler/__init__.py to __init__.cpython-311.pyc\n",
            "creating build/bdist.linux-x86_64/egg/EGG-INFO\n",
            "copying warmup_scheduler.egg-info/PKG-INFO -> build/bdist.linux-x86_64/egg/EGG-INFO\n",
            "copying warmup_scheduler.egg-info/SOURCES.txt -> build/bdist.linux-x86_64/egg/EGG-INFO\n",
            "copying warmup_scheduler.egg-info/dependency_links.txt -> build/bdist.linux-x86_64/egg/EGG-INFO\n",
            "copying warmup_scheduler.egg-info/top_level.txt -> build/bdist.linux-x86_64/egg/EGG-INFO\n",
            "zip_safe flag not set; analyzing archive contents...\n",
            "creating dist\n",
            "creating 'dist/warmup_scheduler-0.3-py3.11.egg' and adding 'build/bdist.linux-x86_64/egg' to it\n",
            "removing 'build/bdist.linux-x86_64/egg' (and everything under it)\n",
            "Processing warmup_scheduler-0.3-py3.11.egg\n",
            "Copying warmup_scheduler-0.3-py3.11.egg to /usr/local/lib/python3.11/dist-packages\n",
            "Adding warmup-scheduler 0.3 to easy-install.pth file\n",
            "\n",
            "Installed /usr/local/lib/python3.11/dist-packages/warmup_scheduler-0.3-py3.11.egg\n",
            "Processing dependencies for warmup-scheduler==0.3\n",
            "Finished processing dependencies for warmup-scheduler==0.3\n",
            "/content/SFNet\n"
          ]
        }
      ]
    },
    {
      "cell_type": "code",
      "source": [
        "%cd /content/SFNet/Motion_deblurring"
      ],
      "metadata": {
        "colab": {
          "base_uri": "https://localhost:8080/"
        },
        "id": "YmVlaAbBbCJS",
        "outputId": "8de88cdc-0934-42f4-fe32-d30ef4ba51bc"
      },
      "execution_count": 6,
      "outputs": [
        {
          "output_type": "stream",
          "name": "stdout",
          "text": [
            "/content/SFNet/Motion_deblurring\n"
          ]
        }
      ]
    },
    {
      "cell_type": "code",
      "source": [
        "import zipfile\n",
        "import os\n",
        "import shutil\n",
        "from google.colab import drive\n",
        "drive.mount('/content/drive')"
      ],
      "metadata": {
        "colab": {
          "base_uri": "https://localhost:8080/"
        },
        "id": "V7e8XVk2m4Y6",
        "outputId": "2f1feb1d-c6fd-475d-d47c-6d9ed614931d"
      },
      "execution_count": 7,
      "outputs": [
        {
          "output_type": "stream",
          "name": "stdout",
          "text": [
            "Mounted at /content/drive\n"
          ]
        }
      ]
    },
    {
      "cell_type": "markdown",
      "source": [],
      "metadata": {
        "id": "kU3Yv3PBeJYF"
      }
    },
    {
      "cell_type": "markdown",
      "source": [
        "RealBlur_R"
      ],
      "metadata": {
        "id": "FhBUXCb2eJ3q"
      }
    },
    {
      "cell_type": "code",
      "source": [
        "zip_path = \"/content/drive/MyDrive/SFNet/RealBlur_R.zip\" # đổi thành HIDE hoặc RealBlur_J\n",
        "extract_path = \"/content/SFNet/Motion_deblurring/data/\"\n",
        "\n",
        "\n",
        "with zipfile.ZipFile(zip_path, 'r') as zip_ref:\n",
        "    zip_ref.extractall(extract_path)\n",
        "\n",
        "print(\"Giải nén thành công!\")\n",
        "\n",
        "\n",
        "!python main.py --data HIDE --mode test --data_dir /content/SFNet/Motion_deblurring/data/RealBlur_R/test --test_model /content/drive/MyDrive/SFNet/GOPRO.pkl --save_image True"
      ],
      "metadata": {
        "colab": {
          "base_uri": "https://localhost:8080/"
        },
        "id": "xQp4KOmsbQXY",
        "outputId": "42d6c08e-f3c6-4197-935f-6248094de64b"
      },
      "execution_count": null,
      "outputs": [
        {
          "output_type": "stream",
          "name": "stdout",
          "text": [
            "Giải nén thành công!\n",
            "2025-03-28 08:52:41.874475: E external/local_xla/xla/stream_executor/cuda/cuda_fft.cc:477] Unable to register cuFFT factory: Attempting to register factory for plugin cuFFT when one has already been registered\n",
            "WARNING: All log messages before absl::InitializeLog() is called are written to STDERR\n",
            "E0000 00:00:1743151962.137430    2533 cuda_dnn.cc:8310] Unable to register cuDNN factory: Attempting to register factory for plugin cuDNN when one has already been registered\n",
            "E0000 00:00:1743151962.213827    2533 cuda_blas.cc:1418] Unable to register cuBLAS factory: Attempting to register factory for plugin cuBLAS when one has already been registered\n",
            "2025-03-28 08:52:42.774548: I tensorflow/core/platform/cpu_feature_guard.cc:210] This TensorFlow binary is optimized to use available CPU instructions in performance-critical operations.\n",
            "To enable the following instructions: AVX2 AVX512F FMA, in other operations, rebuild TensorFlow with the appropriate compiler flags.\n",
            "Namespace(model_name='SFNet', data_dir='/content/SFNet/Motion_deblurring/data/RealBlur_R/test', mode='test', data='HIDE', batch_size=4, learning_rate=0.0001, weight_decay=0, num_epoch=3000, print_freq=100, num_worker=8, save_freq=100, valid_freq=100, resume='', test_model='/content/drive/MyDrive/SFNet/GOPRO.pkl', save_image=True, model_save_dir='results/SFNet/HIDE/Training-Results/', result_dir='results/SFNet/HIDE')\n",
            "1 iter PSNR: 39.41 \n",
            "2 iter PSNR: 37.18 \n",
            "3 iter PSNR: 36.44 \n",
            "4 iter PSNR: 34.66 \n",
            "5 iter PSNR: 32.33 \n",
            "6 iter PSNR: 30.33 \n",
            "7 iter PSNR: 31.53 \n",
            "8 iter PSNR: 33.89 \n",
            "9 iter PSNR: 29.46 \n",
            "10 iter PSNR: 29.48 \n",
            "11 iter PSNR: 32.15 \n",
            "12 iter PSNR: 27.79 \n",
            "13 iter PSNR: 29.99 \n",
            "14 iter PSNR: 38.16 \n",
            "15 iter PSNR: 31.60 \n",
            "16 iter PSNR: 32.89 \n",
            "17 iter PSNR: 29.93 \n",
            "18 iter PSNR: 34.07 \n",
            "19 iter PSNR: 32.11 \n",
            "20 iter PSNR: 33.65 \n",
            "21 iter PSNR: 34.30 \n",
            "22 iter PSNR: 32.32 \n",
            "23 iter PSNR: 33.84 \n",
            "24 iter PSNR: 31.91 \n",
            "25 iter PSNR: 36.28 \n",
            "26 iter PSNR: 28.77 \n",
            "27 iter PSNR: 34.05 \n",
            "28 iter PSNR: 30.43 \n",
            "29 iter PSNR: 32.83 \n",
            "30 iter PSNR: 33.41 \n",
            "31 iter PSNR: 31.88 \n",
            "32 iter PSNR: 30.61 \n",
            "33 iter PSNR: 35.34 \n",
            "34 iter PSNR: 31.81 \n",
            "35 iter PSNR: 30.38 \n",
            "36 iter PSNR: 37.75 \n",
            "37 iter PSNR: 28.32 \n",
            "38 iter PSNR: 34.10 \n",
            "39 iter PSNR: 32.64 \n",
            "40 iter PSNR: 33.17 \n",
            "41 iter PSNR: 32.33 \n",
            "42 iter PSNR: 33.25 \n",
            "43 iter PSNR: 33.47 \n",
            "44 iter PSNR: 33.29 \n",
            "45 iter PSNR: 32.36 \n",
            "46 iter PSNR: 33.00 \n",
            "47 iter PSNR: 38.62 \n",
            "48 iter PSNR: 44.84 \n",
            "49 iter PSNR: 44.19 \n",
            "50 iter PSNR: 42.92 \n",
            "51 iter PSNR: 45.25 \n",
            "52 iter PSNR: 44.12 \n",
            "53 iter PSNR: 43.59 \n",
            "54 iter PSNR: 36.10 \n",
            "55 iter PSNR: 44.11 \n",
            "56 iter PSNR: 44.21 \n",
            "57 iter PSNR: 41.02 \n",
            "58 iter PSNR: 36.14 \n",
            "59 iter PSNR: 43.49 \n",
            "60 iter PSNR: 41.19 \n",
            "61 iter PSNR: 43.52 \n",
            "62 iter PSNR: 45.13 \n",
            "63 iter PSNR: 45.00 \n",
            "64 iter PSNR: 43.07 \n",
            "65 iter PSNR: 43.16 \n",
            "66 iter PSNR: 44.92 \n",
            "67 iter PSNR: 44.16 \n",
            "68 iter PSNR: 44.35 \n",
            "69 iter PSNR: 35.82 \n",
            "70 iter PSNR: 29.48 \n",
            "71 iter PSNR: 34.44 \n",
            "72 iter PSNR: 27.18 \n",
            "73 iter PSNR: 25.07 \n",
            "74 iter PSNR: 26.45 \n",
            "75 iter PSNR: 21.73 \n",
            "76 iter PSNR: 31.07 \n",
            "77 iter PSNR: 34.28 \n",
            "78 iter PSNR: 31.45 \n",
            "79 iter PSNR: 29.78 \n",
            "80 iter PSNR: 36.96 \n",
            "81 iter PSNR: 23.42 \n",
            "82 iter PSNR: 28.65 \n",
            "83 iter PSNR: 27.99 \n",
            "84 iter PSNR: 18.38 \n",
            "85 iter PSNR: 24.20 \n",
            "86 iter PSNR: 23.57 \n",
            "87 iter PSNR: 19.46 \n",
            "88 iter PSNR: 28.16 \n",
            "89 iter PSNR: 28.28 \n",
            "90 iter PSNR: 35.53 \n",
            "91 iter PSNR: 38.42 \n",
            "92 iter PSNR: 34.01 \n",
            "93 iter PSNR: 28.74 \n",
            "94 iter PSNR: 33.94 \n",
            "95 iter PSNR: 29.81 \n",
            "96 iter PSNR: 30.56 \n",
            "97 iter PSNR: 27.62 \n",
            "98 iter PSNR: 35.34 \n"
          ]
        }
      ]
    },
    {
      "cell_type": "markdown",
      "source": [
        "RealBlur_J"
      ],
      "metadata": {
        "id": "aD9HMepmeRto"
      }
    },
    {
      "cell_type": "code",
      "source": [
        "# zip_path = \"/content/drive/MyDrive/SFNet/RealBlur_J.zip\" # đổi thành HIDE hoặc RealBlur_J\n",
        "# extract_path = \"/content/SFNet/Motion_deblurring/data/\"\n",
        "\n",
        "\n",
        "# with zipfile.ZipFile(zip_path, 'r') as zip_ref:\n",
        "#     zip_ref.extractall(extract_path)\n",
        "\n",
        "# print(\"Giải nén thành công!\")\n",
        "\n",
        "\n",
        "# !python main.py --data HIDE --mode test --data_dir /content/SFNet/Motion_deblurring/data/RealBlur_J/test --test_model /content/drive/MyDrive/SFNet/GOPRO.pkl --save_image True"
      ],
      "metadata": {
        "id": "84AoxmqHqr2c"
      },
      "execution_count": null,
      "outputs": []
    },
    {
      "cell_type": "markdown",
      "source": [
        "HIDE"
      ],
      "metadata": {
        "id": "CRRxZ5yweUFW"
      }
    },
    {
      "cell_type": "code",
      "source": [
        "# zip_path = \"/content/drive/MyDrive/SFNet/HIDE.zip\" # đổi thành HIDE hoặc RealBlur_J\n",
        "# extract_path = \"/content/SFNet/Motion_deblurring/data/\"\n",
        "\n",
        "# with zipfile.ZipFile(zip_path, 'r') as zip_ref:\n",
        "#     zip_ref.extractall(extract_path)\n",
        "\n",
        "# print(\"Giải nén thành công!\")\n",
        "# old_folder = \"/content/SFNet/Motion_deblurring/data/HIDE\"\n",
        "# new_folder = \"/content/SFNet/Motion_deblurring/data/test\"\n",
        "\n",
        "# os.rename(old_folder, new_folder)\n",
        "# print(\"Đã đổi tên thư mục thành công!\")\n",
        "\n",
        "# !python main.py --data HIDE --mode test --data_dir /content/SFNet/Motion_deblurring/data/test --test_model /content/drive/MyDrive/SFNet/GOPRO.pkl --save_image True"
      ],
      "metadata": {
        "id": "IQZrbgLNeVEQ"
      },
      "execution_count": null,
      "outputs": []
    },
    {
      "cell_type": "code",
      "source": [],
      "metadata": {
        "id": "gf3WZeF0kheh"
      },
      "execution_count": null,
      "outputs": []
    }
  ]
}